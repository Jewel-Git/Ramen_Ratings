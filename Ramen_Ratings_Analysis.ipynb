{
 "cells": [
  {
   "cell_type": "markdown",
   "metadata": {},
   "source": [
    "# Ramen_Ratings_Analysis\n",
    "\n",
    "## Table of Contents\n",
    "<ul>\n",
    "<li><a href=\"#intro\">Introduction</a></li>\n",
    "<li><a href=\"#wrangling\">Data Wrangling</a></li>\n",
    "<li><a href=\"#eda\">Exploratory Data Analysis</a></li>\n",
    "<li><a href=\"#conclusions\">Conclusions</a></li>\n",
    "<li><a href=\"#recommend\">Recommendation</a></li>\n",
    "</ul>"
   ]
  },
  {
   "cell_type": "markdown",
   "metadata": {},
   "source": [
    "<a id='intro'></a>\n",
    "## Introduction\n",
    "\n",
    "### Dataset Description \n",
    "\n",
    "> The Big List is a list of reviews for ramen products across different brands and countries. The dataset can be found on THE RAMEN RATER website. The dataset contains 4120 rows of reviewed Ramen products across 7 different properties(columns) which are Review #,Brand,Variety,Style,Country,Stars,T. Some background: these reviews are based on the personal preferences of the owner of The Ramen Rater, not on sales of popularity. Scores are in .25 increments – rounding is NOT recommended. Think of letter grading; a 3.5 score out of 5 stars – (3.5 * 2) * 10 = 70 = C. So, rounding a 3.5 to a 4.0 doesn’t reflect it correctly. The dataset contains 4120 rows and 7 columns.\n",
    "\n",
    "### Question(s) for Analysis\n",
    "> - What ramen Style is the most common?\n",
    "- What Country has the most ramen products?\n",
    "- Which brand is the most common?\n",
    "- What is the average star ratings for each ramen style?\n",
    "- What country has the highest rating for ramen products?\n",
    "- What Ramen Brands have the highest average stars?\n",
    "- Do ramen products with Spicy flavor have higher star ratings on average?\n",
    "- Do ramen products with Chicken flavor have higher star ratings on average?\n",
    "- Do ramen products with Seafood flavor have higher star ratings on average?\n",
    "- What is the average star ratings by ramen flavor?"
   ]
  },
  {
   "cell_type": "code",
   "execution_count": 1,
   "metadata": {},
   "outputs": [],
   "source": [
    "import pandas as pd\n",
    "import numpy as np\n",
    "import matplotlib.pyplot as plt\n",
    "import seaborn as sns\n",
    "%matplotlib inline"
   ]
  },
  {
   "cell_type": "markdown",
   "metadata": {},
   "source": [
    "<a id='wrangling'></a>\n",
    "## Data Wrangling"
   ]
  },
  {
   "cell_type": "code",
   "execution_count": 2,
   "metadata": {},
   "outputs": [
    {
     "data": {
      "text/html": [
       "<div>\n",
       "<style scoped>\n",
       "    .dataframe tbody tr th:only-of-type {\n",
       "        vertical-align: middle;\n",
       "    }\n",
       "\n",
       "    .dataframe tbody tr th {\n",
       "        vertical-align: top;\n",
       "    }\n",
       "\n",
       "    .dataframe thead th {\n",
       "        text-align: right;\n",
       "    }\n",
       "</style>\n",
       "<table border=\"1\" class=\"dataframe\">\n",
       "  <thead>\n",
       "    <tr style=\"text-align: right;\">\n",
       "      <th></th>\n",
       "      <th>Review #</th>\n",
       "      <th>Brand</th>\n",
       "      <th>Variety</th>\n",
       "      <th>Style</th>\n",
       "      <th>Country</th>\n",
       "      <th>Stars</th>\n",
       "      <th>T</th>\n",
       "    </tr>\n",
       "  </thead>\n",
       "  <tbody>\n",
       "    <tr>\n",
       "      <th>0</th>\n",
       "      <td>4120</td>\n",
       "      <td>MIT</td>\n",
       "      <td>Shallot Sauce Dry Noodle</td>\n",
       "      <td>Pack</td>\n",
       "      <td>Taiwan</td>\n",
       "      <td>3</td>\n",
       "      <td>NaN</td>\n",
       "    </tr>\n",
       "    <tr>\n",
       "      <th>1</th>\n",
       "      <td>4119</td>\n",
       "      <td>Sapporo Ichiban</td>\n",
       "      <td>Tonkotsu Ramen Japanese Style Noodles</td>\n",
       "      <td>Bowl</td>\n",
       "      <td>United States</td>\n",
       "      <td>4.5</td>\n",
       "      <td>NaN</td>\n",
       "    </tr>\n",
       "    <tr>\n",
       "      <th>2</th>\n",
       "      <td>4118</td>\n",
       "      <td>Binh Tay</td>\n",
       "      <td>Mi Kiwi</td>\n",
       "      <td>Bowl</td>\n",
       "      <td>Vietnam</td>\n",
       "      <td>3</td>\n",
       "      <td>NaN</td>\n",
       "    </tr>\n",
       "    <tr>\n",
       "      <th>3</th>\n",
       "      <td>4117</td>\n",
       "      <td>Charming Couple</td>\n",
       "      <td>Biang Biang Scallion Chicken Sauce</td>\n",
       "      <td>Pack</td>\n",
       "      <td>Taiwan</td>\n",
       "      <td>4.5</td>\n",
       "      <td>NaN</td>\n",
       "    </tr>\n",
       "    <tr>\n",
       "      <th>4</th>\n",
       "      <td>4116</td>\n",
       "      <td>immi</td>\n",
       "      <td>Tom Yum Shrimp Flavor Ramen Soup</td>\n",
       "      <td>Pack</td>\n",
       "      <td>United States</td>\n",
       "      <td>2.75</td>\n",
       "      <td>NaN</td>\n",
       "    </tr>\n",
       "  </tbody>\n",
       "</table>\n",
       "</div>"
      ],
      "text/plain": [
       "   Review #            Brand                                Variety Style  \\\n",
       "0      4120              MIT               Shallot Sauce Dry Noodle  Pack   \n",
       "1      4119  Sapporo Ichiban  Tonkotsu Ramen Japanese Style Noodles  Bowl   \n",
       "2      4118         Binh Tay                                Mi Kiwi  Bowl   \n",
       "3      4117  Charming Couple     Biang Biang Scallion Chicken Sauce  Pack   \n",
       "4      4116             immi       Tom Yum Shrimp Flavor Ramen Soup  Pack   \n",
       "\n",
       "         Country Stars   T  \n",
       "0         Taiwan     3 NaN  \n",
       "1  United States   4.5 NaN  \n",
       "2        Vietnam     3 NaN  \n",
       "3         Taiwan   4.5 NaN  \n",
       "4  United States  2.75 NaN  "
      ]
     },
     "execution_count": 2,
     "metadata": {},
     "output_type": "execute_result"
    }
   ],
   "source": [
    "ramen_df = pd.read_csv('ramen_ratings.csv')\n",
    "ramen_df.head()"
   ]
  },
  {
   "cell_type": "code",
   "execution_count": 3,
   "metadata": {},
   "outputs": [
    {
     "data": {
      "text/plain": [
       "(4120, 7)"
      ]
     },
     "execution_count": 3,
     "metadata": {},
     "output_type": "execute_result"
    }
   ],
   "source": [
    "ramen_df.shape"
   ]
  },
  {
   "cell_type": "code",
   "execution_count": 4,
   "metadata": {},
   "outputs": [
    {
     "name": "stdout",
     "output_type": "stream",
     "text": [
      "<class 'pandas.core.frame.DataFrame'>\n",
      "RangeIndex: 4120 entries, 0 to 4119\n",
      "Data columns (total 7 columns):\n",
      " #   Column    Non-Null Count  Dtype  \n",
      "---  ------    --------------  -----  \n",
      " 0   Review #  4120 non-null   int64  \n",
      " 1   Brand     4120 non-null   object \n",
      " 2   Variety   4120 non-null   object \n",
      " 3   Style     4120 non-null   object \n",
      " 4   Country   4120 non-null   object \n",
      " 5   Stars     4120 non-null   object \n",
      " 6   T         0 non-null      float64\n",
      "dtypes: float64(1), int64(1), object(5)\n",
      "memory usage: 225.4+ KB\n"
     ]
    }
   ],
   "source": [
    "ramen_df.info()"
   ]
  },
  {
   "cell_type": "code",
   "execution_count": 5,
   "metadata": {
    "scrolled": true
   },
   "outputs": [
    {
     "data": {
      "text/html": [
       "<div>\n",
       "<style scoped>\n",
       "    .dataframe tbody tr th:only-of-type {\n",
       "        vertical-align: middle;\n",
       "    }\n",
       "\n",
       "    .dataframe tbody tr th {\n",
       "        vertical-align: top;\n",
       "    }\n",
       "\n",
       "    .dataframe thead th {\n",
       "        text-align: right;\n",
       "    }\n",
       "</style>\n",
       "<table border=\"1\" class=\"dataframe\">\n",
       "  <thead>\n",
       "    <tr style=\"text-align: right;\">\n",
       "      <th></th>\n",
       "      <th>Review #</th>\n",
       "      <th>T</th>\n",
       "    </tr>\n",
       "  </thead>\n",
       "  <tbody>\n",
       "    <tr>\n",
       "      <th>count</th>\n",
       "      <td>4120.000000</td>\n",
       "      <td>0.0</td>\n",
       "    </tr>\n",
       "    <tr>\n",
       "      <th>mean</th>\n",
       "      <td>2060.500000</td>\n",
       "      <td>NaN</td>\n",
       "    </tr>\n",
       "    <tr>\n",
       "      <th>std</th>\n",
       "      <td>1189.485883</td>\n",
       "      <td>NaN</td>\n",
       "    </tr>\n",
       "    <tr>\n",
       "      <th>min</th>\n",
       "      <td>1.000000</td>\n",
       "      <td>NaN</td>\n",
       "    </tr>\n",
       "    <tr>\n",
       "      <th>25%</th>\n",
       "      <td>1030.750000</td>\n",
       "      <td>NaN</td>\n",
       "    </tr>\n",
       "    <tr>\n",
       "      <th>50%</th>\n",
       "      <td>2060.500000</td>\n",
       "      <td>NaN</td>\n",
       "    </tr>\n",
       "    <tr>\n",
       "      <th>75%</th>\n",
       "      <td>3090.250000</td>\n",
       "      <td>NaN</td>\n",
       "    </tr>\n",
       "    <tr>\n",
       "      <th>max</th>\n",
       "      <td>4120.000000</td>\n",
       "      <td>NaN</td>\n",
       "    </tr>\n",
       "  </tbody>\n",
       "</table>\n",
       "</div>"
      ],
      "text/plain": [
       "          Review #    T\n",
       "count  4120.000000  0.0\n",
       "mean   2060.500000  NaN\n",
       "std    1189.485883  NaN\n",
       "min       1.000000  NaN\n",
       "25%    1030.750000  NaN\n",
       "50%    2060.500000  NaN\n",
       "75%    3090.250000  NaN\n",
       "max    4120.000000  NaN"
      ]
     },
     "execution_count": 5,
     "metadata": {},
     "output_type": "execute_result"
    }
   ],
   "source": [
    "ramen_df.describe()"
   ]
  },
  {
   "cell_type": "markdown",
   "metadata": {},
   "source": [
    "### Assessing Data\n",
    "- Incorrect values in the stars column: NR: 3, Unrated: 3, 4.25/5: 2, 3.5/2.5: 1, 4.5/5: 1, 42860: 1, 42859: 1, 42829: 1, NS: 1, 5/2.5: 1.\n",
    "- Wrong datatypes for the Stars column.\n",
    "- More than one spelling of or way of referring to certain countries : 'USA'/United States, 'Phlippines'/Philippines, 'Souh Korea'/South Korea, 'Russian Federation'/Russia, 'UK'/United Kingdom\n",
    "- Irrelevant columns : Review # and the empty T column."
   ]
  },
  {
   "cell_type": "code",
   "execution_count": 6,
   "metadata": {},
   "outputs": [
    {
     "data": {
      "text/plain": [
       "Review #      int64\n",
       "Brand        object\n",
       "Variety      object\n",
       "Style        object\n",
       "Country      object\n",
       "Stars        object\n",
       "T           float64\n",
       "dtype: object"
      ]
     },
     "execution_count": 6,
     "metadata": {},
     "output_type": "execute_result"
    }
   ],
   "source": [
    "ramen_df.dtypes"
   ]
  },
  {
   "cell_type": "code",
   "execution_count": 7,
   "metadata": {},
   "outputs": [
    {
     "data": {
      "text/plain": [
       "Review #       0\n",
       "Brand          0\n",
       "Variety        0\n",
       "Style          0\n",
       "Country        0\n",
       "Stars          0\n",
       "T           4120\n",
       "dtype: int64"
      ]
     },
     "execution_count": 7,
     "metadata": {},
     "output_type": "execute_result"
    }
   ],
   "source": [
    "ramen_df.isnull().sum()"
   ]
  },
  {
   "cell_type": "code",
   "execution_count": 8,
   "metadata": {},
   "outputs": [
    {
     "data": {
      "text/plain": [
       "Pack          2270\n",
       "Bowl           797\n",
       "Cup            787\n",
       "Tray           182\n",
       "Box             78\n",
       "Restaurant       3\n",
       "Can              1\n",
       "Bottle           1\n",
       "Bar              1\n",
       "Name: Style, dtype: int64"
      ]
     },
     "execution_count": 8,
     "metadata": {},
     "output_type": "execute_result"
    }
   ],
   "source": [
    "ramen_df.Style.value_counts()"
   ]
  },
  {
   "cell_type": "code",
   "execution_count": 9,
   "metadata": {},
   "outputs": [
    {
     "data": {
      "text/plain": [
       "Japan                 800\n",
       "United States         570\n",
       "South Korea           429\n",
       "Taiwan                405\n",
       "China                 286\n",
       "Thailand              233\n",
       "Malaysia              226\n",
       "Hong Kong             205\n",
       "Indonesia             175\n",
       "Singapore             144\n",
       "Vietnam               129\n",
       "UK                     76\n",
       "Canada                 56\n",
       "Philippines            53\n",
       "India                  46\n",
       "Germany                38\n",
       "Mexico                 32\n",
       "Australia              25\n",
       "Brazil                 24\n",
       "Netherlands            16\n",
       "Nepal                  14\n",
       "Myanmar                14\n",
       "Pakistan               13\n",
       "Bangladesh             12\n",
       "Hungary                 9\n",
       "Colombia                6\n",
       "Poland                  6\n",
       "France                  6\n",
       "Russia                  5\n",
       "Serbia                  5\n",
       "Cambodia                5\n",
       "Sarawak                 5\n",
       "Peru                    4\n",
       "Ireland                 4\n",
       "Holland                 4\n",
       "Italy                   4\n",
       "Fiji                    4\n",
       "Spain                   3\n",
       "Dubai                   3\n",
       "Israel                  3\n",
       "Finland                 3\n",
       "Ukraine                 3\n",
       "Sweden                  3\n",
       "Nigeria                 2\n",
       "Estonia                 2\n",
       "Ghana                   2\n",
       "Russian Federation      2\n",
       "United Kingdom          1\n",
       "Souh Korea              1\n",
       "Phlippines              1\n",
       "Portugal                1\n",
       "New Zealand             1\n",
       "USA                     1\n",
       "Name: Country, dtype: int64"
      ]
     },
     "execution_count": 9,
     "metadata": {},
     "output_type": "execute_result"
    }
   ],
   "source": [
    "ramen_df.Country.value_counts()"
   ]
  },
  {
   "cell_type": "code",
   "execution_count": 10,
   "metadata": {},
   "outputs": [
    {
     "data": {
      "text/plain": [
       "49"
      ]
     },
     "execution_count": 10,
     "metadata": {},
     "output_type": "execute_result"
    }
   ],
   "source": [
    "ramen_df.Stars.nunique()"
   ]
  },
  {
   "cell_type": "code",
   "execution_count": 11,
   "metadata": {},
   "outputs": [
    {
     "data": {
      "text/plain": [
       "array([4120, 4119, 4118, ...,    3,    2,    1], dtype=int64)"
      ]
     },
     "execution_count": 11,
     "metadata": {},
     "output_type": "execute_result"
    }
   ],
   "source": [
    "ramen_df['Review #'].unique()"
   ]
  },
  {
   "cell_type": "code",
   "execution_count": 12,
   "metadata": {},
   "outputs": [
    {
     "data": {
      "text/html": [
       "<div>\n",
       "<style scoped>\n",
       "    .dataframe tbody tr th:only-of-type {\n",
       "        vertical-align: middle;\n",
       "    }\n",
       "\n",
       "    .dataframe tbody tr th {\n",
       "        vertical-align: top;\n",
       "    }\n",
       "\n",
       "    .dataframe thead th {\n",
       "        text-align: right;\n",
       "    }\n",
       "</style>\n",
       "<table border=\"1\" class=\"dataframe\">\n",
       "  <thead>\n",
       "    <tr style=\"text-align: right;\">\n",
       "      <th></th>\n",
       "      <th>Review #</th>\n",
       "      <th>Brand</th>\n",
       "      <th>Variety</th>\n",
       "      <th>Style</th>\n",
       "      <th>Country</th>\n",
       "      <th>Stars</th>\n",
       "      <th>T</th>\n",
       "    </tr>\n",
       "  </thead>\n",
       "  <tbody>\n",
       "    <tr>\n",
       "      <th>3350</th>\n",
       "      <td>770</td>\n",
       "      <td>Kailo</td>\n",
       "      <td>Chicken</td>\n",
       "      <td>Pack</td>\n",
       "      <td>Hong Kong</td>\n",
       "      <td>3.5</td>\n",
       "      <td>NaN</td>\n",
       "    </tr>\n",
       "    <tr>\n",
       "      <th>3759</th>\n",
       "      <td>361</td>\n",
       "      <td>Tayho</td>\n",
       "      <td>Vermicelli With Pork</td>\n",
       "      <td>Bowl</td>\n",
       "      <td>United States</td>\n",
       "      <td>1.25</td>\n",
       "      <td>NaN</td>\n",
       "    </tr>\n",
       "    <tr>\n",
       "      <th>1522</th>\n",
       "      <td>2598</td>\n",
       "      <td>Myojo</td>\n",
       "      <td>Western Style Kisune Udon</td>\n",
       "      <td>Bowl</td>\n",
       "      <td>Japan</td>\n",
       "      <td>4</td>\n",
       "      <td>NaN</td>\n",
       "    </tr>\n",
       "    <tr>\n",
       "      <th>1157</th>\n",
       "      <td>2963</td>\n",
       "      <td>Kiki</td>\n",
       "      <td>Noodles Mixed With Young Vinegar</td>\n",
       "      <td>Pack</td>\n",
       "      <td>Taiwan</td>\n",
       "      <td>5</td>\n",
       "      <td>NaN</td>\n",
       "    </tr>\n",
       "    <tr>\n",
       "      <th>1384</th>\n",
       "      <td>2736</td>\n",
       "      <td>Kaset</td>\n",
       "      <td>Instant Vermicelli Spicy Seafood Salad Flavour</td>\n",
       "      <td>Cup</td>\n",
       "      <td>Thailand</td>\n",
       "      <td>3.75</td>\n",
       "      <td>NaN</td>\n",
       "    </tr>\n",
       "    <tr>\n",
       "      <th>1327</th>\n",
       "      <td>2793</td>\n",
       "      <td>Mike's Mighty Good Craft Ramen</td>\n",
       "      <td>Chicken Flavor Ramen Soup</td>\n",
       "      <td>Cup</td>\n",
       "      <td>United States</td>\n",
       "      <td>3.75</td>\n",
       "      <td>NaN</td>\n",
       "    </tr>\n",
       "    <tr>\n",
       "      <th>2680</th>\n",
       "      <td>1440</td>\n",
       "      <td>Wu-Mu</td>\n",
       "      <td>Dried Noodle With Beef Flavor Sauce</td>\n",
       "      <td>Pack</td>\n",
       "      <td>Taiwan</td>\n",
       "      <td>3</td>\n",
       "      <td>NaN</td>\n",
       "    </tr>\n",
       "    <tr>\n",
       "      <th>2545</th>\n",
       "      <td>1575</td>\n",
       "      <td>Paldo</td>\n",
       "      <td>Jjajangmen Chajang Noodle King Bowl</td>\n",
       "      <td>Bowl</td>\n",
       "      <td>South Korea</td>\n",
       "      <td>5</td>\n",
       "      <td>NaN</td>\n",
       "    </tr>\n",
       "    <tr>\n",
       "      <th>2280</th>\n",
       "      <td>1840</td>\n",
       "      <td>Forest Noodles</td>\n",
       "      <td>Sweet Potato Noodles With Sesame Paste Sauce</td>\n",
       "      <td>Pack</td>\n",
       "      <td>Taiwan</td>\n",
       "      <td>3.25</td>\n",
       "      <td>NaN</td>\n",
       "    </tr>\n",
       "    <tr>\n",
       "      <th>433</th>\n",
       "      <td>3687</td>\n",
       "      <td>Tokyo Ramen</td>\n",
       "      <td>Shoyu Flavor</td>\n",
       "      <td>Pack</td>\n",
       "      <td>Japan</td>\n",
       "      <td>4.5</td>\n",
       "      <td>NaN</td>\n",
       "    </tr>\n",
       "    <tr>\n",
       "      <th>642</th>\n",
       "      <td>3478</td>\n",
       "      <td>Menraku</td>\n",
       "      <td>Japanese Ramen \"Seafood Tonkotsu\" Taste</td>\n",
       "      <td>Bowl</td>\n",
       "      <td>United States</td>\n",
       "      <td>4.25</td>\n",
       "      <td>NaN</td>\n",
       "    </tr>\n",
       "    <tr>\n",
       "      <th>2490</th>\n",
       "      <td>1630</td>\n",
       "      <td>Nongshim</td>\n",
       "      <td>Korean Clay Pot Ramyun</td>\n",
       "      <td>Bowl</td>\n",
       "      <td>China</td>\n",
       "      <td>2.5</td>\n",
       "      <td>NaN</td>\n",
       "    </tr>\n",
       "    <tr>\n",
       "      <th>3365</th>\n",
       "      <td>755</td>\n",
       "      <td>Nongshim</td>\n",
       "      <td>Udon</td>\n",
       "      <td>Bowl</td>\n",
       "      <td>South Korea</td>\n",
       "      <td>4.25</td>\n",
       "      <td>NaN</td>\n",
       "    </tr>\n",
       "    <tr>\n",
       "      <th>2658</th>\n",
       "      <td>1462</td>\n",
       "      <td>Wei Lih</td>\n",
       "      <td>Steam Instant Noodles Korean Salt &amp; Rib Soup F...</td>\n",
       "      <td>Bowl</td>\n",
       "      <td>Taiwan</td>\n",
       "      <td>2.25</td>\n",
       "      <td>NaN</td>\n",
       "    </tr>\n",
       "    <tr>\n",
       "      <th>3822</th>\n",
       "      <td>298</td>\n",
       "      <td>Nongshim</td>\n",
       "      <td>Hearty Rice Noodle Spicy Veggie Consomme</td>\n",
       "      <td>Pack</td>\n",
       "      <td>South Korea</td>\n",
       "      <td>2.75</td>\n",
       "      <td>NaN</td>\n",
       "    </tr>\n",
       "    <tr>\n",
       "      <th>1658</th>\n",
       "      <td>2462</td>\n",
       "      <td>TTL</td>\n",
       "      <td>Sesame Oil Chicken Noodle With Rice Wine</td>\n",
       "      <td>Bowl</td>\n",
       "      <td>Taiwan</td>\n",
       "      <td>5</td>\n",
       "      <td>NaN</td>\n",
       "    </tr>\n",
       "    <tr>\n",
       "      <th>2281</th>\n",
       "      <td>1839</td>\n",
       "      <td>Vit's</td>\n",
       "      <td>Taste Of Malaysia Penang White Curry Ramen</td>\n",
       "      <td>Pack</td>\n",
       "      <td>Malaysia</td>\n",
       "      <td>5</td>\n",
       "      <td>NaN</td>\n",
       "    </tr>\n",
       "    <tr>\n",
       "      <th>1148</th>\n",
       "      <td>2972</td>\n",
       "      <td>Bowlfull</td>\n",
       "      <td>Vegetable Flavour Instant Noodle Soup</td>\n",
       "      <td>Pack</td>\n",
       "      <td>Canada</td>\n",
       "      <td>0</td>\n",
       "      <td>NaN</td>\n",
       "    </tr>\n",
       "    <tr>\n",
       "      <th>1002</th>\n",
       "      <td>3118</td>\n",
       "      <td>Nongshim</td>\n",
       "      <td>POP Pot Or Pan Chicken</td>\n",
       "      <td>Pack</td>\n",
       "      <td>United States</td>\n",
       "      <td>5</td>\n",
       "      <td>NaN</td>\n",
       "    </tr>\n",
       "    <tr>\n",
       "      <th>1346</th>\n",
       "      <td>2774</td>\n",
       "      <td>Nissin</td>\n",
       "      <td>Cup Noodle Yuzu</td>\n",
       "      <td>Cup</td>\n",
       "      <td>Japan</td>\n",
       "      <td>3.5</td>\n",
       "      <td>NaN</td>\n",
       "    </tr>\n",
       "  </tbody>\n",
       "</table>\n",
       "</div>"
      ],
      "text/plain": [
       "      Review #                           Brand  \\\n",
       "3350       770                           Kailo   \n",
       "3759       361                           Tayho   \n",
       "1522      2598                           Myojo   \n",
       "1157      2963                            Kiki   \n",
       "1384      2736                           Kaset   \n",
       "1327      2793  Mike's Mighty Good Craft Ramen   \n",
       "2680      1440                           Wu-Mu   \n",
       "2545      1575                           Paldo   \n",
       "2280      1840                  Forest Noodles   \n",
       "433       3687                     Tokyo Ramen   \n",
       "642       3478                         Menraku   \n",
       "2490      1630                        Nongshim   \n",
       "3365       755                        Nongshim   \n",
       "2658      1462                         Wei Lih   \n",
       "3822       298                        Nongshim   \n",
       "1658      2462                             TTL   \n",
       "2281      1839                           Vit's   \n",
       "1148      2972                        Bowlfull   \n",
       "1002      3118                        Nongshim   \n",
       "1346      2774                          Nissin   \n",
       "\n",
       "                                                Variety Style        Country  \\\n",
       "3350                                            Chicken  Pack      Hong Kong   \n",
       "3759                               Vermicelli With Pork  Bowl  United States   \n",
       "1522                          Western Style Kisune Udon  Bowl          Japan   \n",
       "1157                   Noodles Mixed With Young Vinegar  Pack         Taiwan   \n",
       "1384     Instant Vermicelli Spicy Seafood Salad Flavour   Cup       Thailand   \n",
       "1327                          Chicken Flavor Ramen Soup   Cup  United States   \n",
       "2680                Dried Noodle With Beef Flavor Sauce  Pack         Taiwan   \n",
       "2545                Jjajangmen Chajang Noodle King Bowl  Bowl    South Korea   \n",
       "2280       Sweet Potato Noodles With Sesame Paste Sauce  Pack         Taiwan   \n",
       "433                                        Shoyu Flavor  Pack          Japan   \n",
       "642             Japanese Ramen \"Seafood Tonkotsu\" Taste  Bowl  United States   \n",
       "2490                             Korean Clay Pot Ramyun  Bowl          China   \n",
       "3365                                              Udon   Bowl    South Korea   \n",
       "2658  Steam Instant Noodles Korean Salt & Rib Soup F...  Bowl         Taiwan   \n",
       "3822           Hearty Rice Noodle Spicy Veggie Consomme  Pack    South Korea   \n",
       "1658           Sesame Oil Chicken Noodle With Rice Wine  Bowl         Taiwan   \n",
       "2281         Taste Of Malaysia Penang White Curry Ramen  Pack       Malaysia   \n",
       "1148              Vegetable Flavour Instant Noodle Soup  Pack         Canada   \n",
       "1002                             POP Pot Or Pan Chicken  Pack  United States   \n",
       "1346                                    Cup Noodle Yuzu   Cup          Japan   \n",
       "\n",
       "     Stars   T  \n",
       "3350   3.5 NaN  \n",
       "3759  1.25 NaN  \n",
       "1522     4 NaN  \n",
       "1157     5 NaN  \n",
       "1384  3.75 NaN  \n",
       "1327  3.75 NaN  \n",
       "2680     3 NaN  \n",
       "2545     5 NaN  \n",
       "2280  3.25 NaN  \n",
       "433    4.5 NaN  \n",
       "642   4.25 NaN  \n",
       "2490   2.5 NaN  \n",
       "3365  4.25 NaN  \n",
       "2658  2.25 NaN  \n",
       "3822  2.75 NaN  \n",
       "1658     5 NaN  \n",
       "2281     5 NaN  \n",
       "1148     0 NaN  \n",
       "1002     5 NaN  \n",
       "1346   3.5 NaN  "
      ]
     },
     "execution_count": 12,
     "metadata": {},
     "output_type": "execute_result"
    }
   ],
   "source": [
    "ramen_df.sample(20)"
   ]
  },
  {
   "cell_type": "code",
   "execution_count": 13,
   "metadata": {},
   "outputs": [
    {
     "data": {
      "text/plain": [
       "0"
      ]
     },
     "execution_count": 13,
     "metadata": {},
     "output_type": "execute_result"
    }
   ],
   "source": [
    "sum(ramen_df.duplicated())"
   ]
  },
  {
   "cell_type": "code",
   "execution_count": 14,
   "metadata": {},
   "outputs": [
    {
     "data": {
      "text/plain": [
       "5          774\n",
       "3.5        609\n",
       "3.75       583\n",
       "4          484\n",
       "4.5        283\n",
       "3.25       236\n",
       "4.25       225\n",
       "3          191\n",
       "2.75       118\n",
       "2          103\n",
       "4.75       103\n",
       "2.5        102\n",
       "1.5         55\n",
       "1           44\n",
       "0           44\n",
       "1.75        33\n",
       "2.25        32\n",
       "0.5         24\n",
       "0.25        21\n",
       "1.25        16\n",
       "Unrated      3\n",
       "NR           3\n",
       "4.125        2\n",
       "2.8          2\n",
       "4.25/5       2\n",
       "2.9          2\n",
       "1.1          2\n",
       "3.1          2\n",
       "0.75         2\n",
       "NS           1\n",
       "3.125        1\n",
       "1.8          1\n",
       "0.9          1\n",
       "3.7          1\n",
       "2.125        1\n",
       "3.5/2.5      1\n",
       "2.3          1\n",
       "2.85         1\n",
       "3.4          1\n",
       "3.2          1\n",
       "5/2.5        1\n",
       "42859        1\n",
       "3.65         1\n",
       "0.1          1\n",
       "4.5/5        1\n",
       "2.1          1\n",
       "42829        1\n",
       "42860        1\n",
       "3.6          1\n",
       "Name: Stars, dtype: int64"
      ]
     },
     "execution_count": 14,
     "metadata": {},
     "output_type": "execute_result"
    }
   ],
   "source": [
    "ramen_df.Stars.value_counts()"
   ]
  },
  {
   "cell_type": "markdown",
   "metadata": {},
   "source": [
    "### Data Cleaning\n",
    "\n",
    "#### Issue 1: Incorrect values in the stars column: NR: 3, Unrated: 3, 4.25/5: 2, 3.5/2.5: 1, 4.5/5: 1, 42860: 1, 42859: 1, 42829: 1, NS: 1, 5/2.5: 1.\n",
    "Define: Change the three records with Unrated, NR and NS to 0, then replace ratings having ratio to the numerator or denominator value.\n",
    "\n",
    "Code"
   ]
  },
  {
   "cell_type": "code",
   "execution_count": 15,
   "metadata": {},
   "outputs": [],
   "source": [
    "ramen_df['Stars'] = ramen_df['Stars'].str.replace('Unrated', '0')"
   ]
  },
  {
   "cell_type": "code",
   "execution_count": 16,
   "metadata": {},
   "outputs": [],
   "source": [
    "ramen_df['Stars'] = ramen_df['Stars'].str.replace('NR', '0')\n",
    "ramen_df['Stars'] = ramen_df['Stars'].str.replace('NS', '0')\n",
    "ramen_df['Stars'] = ramen_df['Stars'].str.replace('4.25/5', '4.25')\n",
    "ramen_df['Stars'] = ramen_df['Stars'].str.replace('3.5/2.5', '3.5')\n",
    "ramen_df['Stars'] = ramen_df['Stars'].str.replace('4.5/5', '4.5')\n",
    "ramen_df['Stars'] = ramen_df['Stars'].str.replace('5/2.5', '2.5')"
   ]
  },
  {
   "cell_type": "code",
   "execution_count": 17,
   "metadata": {},
   "outputs": [],
   "source": [
    "drop_rows = ['42860', '42859', '42829']\n",
    "wrong_ratings = ramen_df[ramen_df['Stars'].isin(drop_rows)]\n",
    "idx = list(wrong_ratings.index)\n",
    "ramen_df = ramen_df.drop(idx)"
   ]
  },
  {
   "cell_type": "markdown",
   "metadata": {},
   "source": [
    "Test"
   ]
  },
  {
   "cell_type": "code",
   "execution_count": 18,
   "metadata": {},
   "outputs": [
    {
     "data": {
      "text/plain": [
       "5        774\n",
       "3.5      610\n",
       "3.75     583\n",
       "4        484\n",
       "4.5      284\n",
       "3.25     236\n",
       "4.25     227\n",
       "3        191\n",
       "2.75     118\n",
       "2        103\n",
       "4.75     103\n",
       "2.5      103\n",
       "1.5       55\n",
       "0         51\n",
       "1         44\n",
       "1.75      33\n",
       "2.25      32\n",
       "0.5       24\n",
       "0.25      21\n",
       "1.25      16\n",
       "2.8        2\n",
       "1.1        2\n",
       "3.1        2\n",
       "2.9        2\n",
       "4.125      2\n",
       "0.75       2\n",
       "3.2        1\n",
       "2.3        1\n",
       "2.1        1\n",
       "0.1        1\n",
       "3.125      1\n",
       "3.4        1\n",
       "3.6        1\n",
       "3.65       1\n",
       "2.85       1\n",
       "2.125      1\n",
       "0.9        1\n",
       "1.8        1\n",
       "3.7        1\n",
       "Name: Stars, dtype: int64"
      ]
     },
     "execution_count": 18,
     "metadata": {},
     "output_type": "execute_result"
    }
   ],
   "source": [
    "ramen_df.Stars.value_counts()"
   ]
  },
  {
   "cell_type": "code",
   "execution_count": 19,
   "metadata": {},
   "outputs": [
    {
     "name": "stdout",
     "output_type": "stream",
     "text": [
      "<class 'pandas.core.frame.DataFrame'>\n",
      "Int64Index: 4117 entries, 0 to 4119\n",
      "Data columns (total 7 columns):\n",
      " #   Column    Non-Null Count  Dtype  \n",
      "---  ------    --------------  -----  \n",
      " 0   Review #  4117 non-null   int64  \n",
      " 1   Brand     4117 non-null   object \n",
      " 2   Variety   4117 non-null   object \n",
      " 3   Style     4117 non-null   object \n",
      " 4   Country   4117 non-null   object \n",
      " 5   Stars     4117 non-null   object \n",
      " 6   T         0 non-null      float64\n",
      "dtypes: float64(1), int64(1), object(5)\n",
      "memory usage: 257.3+ KB\n"
     ]
    }
   ],
   "source": [
    "ramen_df.info()"
   ]
  },
  {
   "cell_type": "markdown",
   "metadata": {},
   "source": [
    "#### Issue 2: Wrong datatypes for the Stars column.\n",
    "Define: Change the dataype of the stars column to float.\n",
    "\n",
    "Code"
   ]
  },
  {
   "cell_type": "code",
   "execution_count": 20,
   "metadata": {},
   "outputs": [],
   "source": [
    "ramen_df['Stars'] = ramen_df['Stars'].astype(float)"
   ]
  },
  {
   "cell_type": "markdown",
   "metadata": {},
   "source": [
    "Test"
   ]
  },
  {
   "cell_type": "code",
   "execution_count": 21,
   "metadata": {},
   "outputs": [
    {
     "data": {
      "text/plain": [
       "dtype('float64')"
      ]
     },
     "execution_count": 21,
     "metadata": {},
     "output_type": "execute_result"
    }
   ],
   "source": [
    "ramen_df['Stars'].dtypes"
   ]
  },
  {
   "cell_type": "code",
   "execution_count": 22,
   "metadata": {
    "scrolled": true
   },
   "outputs": [
    {
     "name": "stdout",
     "output_type": "stream",
     "text": [
      "<class 'pandas.core.frame.DataFrame'>\n",
      "Int64Index: 4117 entries, 0 to 4119\n",
      "Data columns (total 7 columns):\n",
      " #   Column    Non-Null Count  Dtype  \n",
      "---  ------    --------------  -----  \n",
      " 0   Review #  4117 non-null   int64  \n",
      " 1   Brand     4117 non-null   object \n",
      " 2   Variety   4117 non-null   object \n",
      " 3   Style     4117 non-null   object \n",
      " 4   Country   4117 non-null   object \n",
      " 5   Stars     4117 non-null   float64\n",
      " 6   T         0 non-null      float64\n",
      "dtypes: float64(2), int64(1), object(4)\n",
      "memory usage: 257.3+ KB\n"
     ]
    }
   ],
   "source": [
    "ramen_df.info()"
   ]
  },
  {
   "cell_type": "markdown",
   "metadata": {},
   "source": [
    "#### Issue 3: More than one spelling of or way of referring to certain countries : 'USA'/United States, 'Phlippines'/Philippines, 'Souh Korea'/South Korea, 'Russian Federation'/Russia, 'UK'/United Kingdom\n",
    "Define: Replace the wrong spellings with the right one for uniformity.\n",
    "\n",
    "Code"
   ]
  },
  {
   "cell_type": "markdown",
   "metadata": {},
   "source": [
    "'USA', 'Phlippines', 'Souh Korea', 'Russian Federation', 'UK'"
   ]
  },
  {
   "cell_type": "code",
   "execution_count": 23,
   "metadata": {},
   "outputs": [],
   "source": [
    "ramen_df['Country'] = ramen_df['Country'].str.replace('USA', 'United States')\n",
    "ramen_df['Country'] = ramen_df['Country'].str.replace('Phlippines', 'Philippines')\n",
    "ramen_df['Country'] = ramen_df['Country'].str.replace('Souh Korea', 'South Korea')\n",
    "ramen_df['Country'] = ramen_df['Country'].str.replace('Russian Federation', 'Russia')\n",
    "ramen_df['Country'] = ramen_df['Country'].str.replace('UK', 'United Kingdom')"
   ]
  },
  {
   "cell_type": "markdown",
   "metadata": {},
   "source": [
    "Test"
   ]
  },
  {
   "cell_type": "code",
   "execution_count": 24,
   "metadata": {},
   "outputs": [
    {
     "data": {
      "text/plain": [
       "Japan             800\n",
       "United States     568\n",
       "South Korea       430\n",
       "Taiwan            405\n",
       "China             286\n",
       "Thailand          233\n",
       "Malaysia          226\n",
       "Hong Kong         205\n",
       "Indonesia         175\n",
       "Singapore         144\n",
       "Vietnam           129\n",
       "United Kingdom     77\n",
       "Canada             56\n",
       "Philippines        54\n",
       "India              46\n",
       "Germany            38\n",
       "Mexico             32\n",
       "Australia          25\n",
       "Brazil             24\n",
       "Netherlands        16\n",
       "Nepal              14\n",
       "Myanmar            14\n",
       "Pakistan           13\n",
       "Bangladesh         12\n",
       "Hungary             9\n",
       "Russia              7\n",
       "Poland              6\n",
       "Colombia            6\n",
       "France              6\n",
       "Serbia              5\n",
       "Sarawak             5\n",
       "Cambodia            5\n",
       "Holland             4\n",
       "Fiji                4\n",
       "Ireland             4\n",
       "Peru                4\n",
       "Italy               4\n",
       "Finland             3\n",
       "Israel              3\n",
       "Dubai               3\n",
       "Spain               3\n",
       "Ukraine             3\n",
       "Sweden              3\n",
       "Nigeria             2\n",
       "Estonia             2\n",
       "Ghana               2\n",
       "New Zealand         1\n",
       "Portugal            1\n",
       "Name: Country, dtype: int64"
      ]
     },
     "execution_count": 24,
     "metadata": {},
     "output_type": "execute_result"
    }
   ],
   "source": [
    "ramen_df.Country.value_counts()"
   ]
  },
  {
   "cell_type": "markdown",
   "metadata": {},
   "source": [
    "#### Issue 4: Irrelevant columns : Review # and the empty T column.\n",
    "Define: Drop irrelevant column: Review # and T.\n",
    "\n",
    "Code"
   ]
  },
  {
   "cell_type": "code",
   "execution_count": 25,
   "metadata": {},
   "outputs": [],
   "source": [
    "ramen_df.drop('Review #', axis = 1, inplace = True)"
   ]
  },
  {
   "cell_type": "code",
   "execution_count": 26,
   "metadata": {},
   "outputs": [],
   "source": [
    "ramen_df.drop('T', axis = 1, inplace = True)"
   ]
  },
  {
   "cell_type": "markdown",
   "metadata": {},
   "source": [
    "Test"
   ]
  },
  {
   "cell_type": "code",
   "execution_count": 27,
   "metadata": {},
   "outputs": [
    {
     "data": {
      "text/plain": [
       "Index(['Brand', 'Variety', 'Style', 'Country', 'Stars'], dtype='object')"
      ]
     },
     "execution_count": 27,
     "metadata": {},
     "output_type": "execute_result"
    }
   ],
   "source": [
    "ramen_df.columns"
   ]
  },
  {
   "cell_type": "code",
   "execution_count": 28,
   "metadata": {
    "scrolled": true
   },
   "outputs": [
    {
     "name": "stdout",
     "output_type": "stream",
     "text": [
      "<class 'pandas.core.frame.DataFrame'>\n",
      "Int64Index: 4117 entries, 0 to 4119\n",
      "Data columns (total 5 columns):\n",
      " #   Column   Non-Null Count  Dtype  \n",
      "---  ------   --------------  -----  \n",
      " 0   Brand    4117 non-null   object \n",
      " 1   Variety  4117 non-null   object \n",
      " 2   Style    4117 non-null   object \n",
      " 3   Country  4117 non-null   object \n",
      " 4   Stars    4117 non-null   float64\n",
      "dtypes: float64(1), object(4)\n",
      "memory usage: 193.0+ KB\n"
     ]
    }
   ],
   "source": [
    "ramen_df.info()"
   ]
  },
  {
   "cell_type": "code",
   "execution_count": 29,
   "metadata": {},
   "outputs": [
    {
     "data": {
      "text/html": [
       "<div>\n",
       "<style scoped>\n",
       "    .dataframe tbody tr th:only-of-type {\n",
       "        vertical-align: middle;\n",
       "    }\n",
       "\n",
       "    .dataframe tbody tr th {\n",
       "        vertical-align: top;\n",
       "    }\n",
       "\n",
       "    .dataframe thead th {\n",
       "        text-align: right;\n",
       "    }\n",
       "</style>\n",
       "<table border=\"1\" class=\"dataframe\">\n",
       "  <thead>\n",
       "    <tr style=\"text-align: right;\">\n",
       "      <th></th>\n",
       "      <th>Brand</th>\n",
       "      <th>Variety</th>\n",
       "      <th>Style</th>\n",
       "      <th>Country</th>\n",
       "      <th>Stars</th>\n",
       "    </tr>\n",
       "  </thead>\n",
       "  <tbody>\n",
       "    <tr>\n",
       "      <th>0</th>\n",
       "      <td>MIT</td>\n",
       "      <td>Shallot Sauce Dry Noodle</td>\n",
       "      <td>Pack</td>\n",
       "      <td>Taiwan</td>\n",
       "      <td>3.00</td>\n",
       "    </tr>\n",
       "    <tr>\n",
       "      <th>1</th>\n",
       "      <td>Sapporo Ichiban</td>\n",
       "      <td>Tonkotsu Ramen Japanese Style Noodles</td>\n",
       "      <td>Bowl</td>\n",
       "      <td>United States</td>\n",
       "      <td>4.50</td>\n",
       "    </tr>\n",
       "    <tr>\n",
       "      <th>2</th>\n",
       "      <td>Binh Tay</td>\n",
       "      <td>Mi Kiwi</td>\n",
       "      <td>Bowl</td>\n",
       "      <td>Vietnam</td>\n",
       "      <td>3.00</td>\n",
       "    </tr>\n",
       "    <tr>\n",
       "      <th>3</th>\n",
       "      <td>Charming Couple</td>\n",
       "      <td>Biang Biang Scallion Chicken Sauce</td>\n",
       "      <td>Pack</td>\n",
       "      <td>Taiwan</td>\n",
       "      <td>4.50</td>\n",
       "    </tr>\n",
       "    <tr>\n",
       "      <th>4</th>\n",
       "      <td>immi</td>\n",
       "      <td>Tom Yum Shrimp Flavor Ramen Soup</td>\n",
       "      <td>Pack</td>\n",
       "      <td>United States</td>\n",
       "      <td>2.75</td>\n",
       "    </tr>\n",
       "  </tbody>\n",
       "</table>\n",
       "</div>"
      ],
      "text/plain": [
       "             Brand                                Variety Style  \\\n",
       "0              MIT               Shallot Sauce Dry Noodle  Pack   \n",
       "1  Sapporo Ichiban  Tonkotsu Ramen Japanese Style Noodles  Bowl   \n",
       "2         Binh Tay                                Mi Kiwi  Bowl   \n",
       "3  Charming Couple     Biang Biang Scallion Chicken Sauce  Pack   \n",
       "4             immi       Tom Yum Shrimp Flavor Ramen Soup  Pack   \n",
       "\n",
       "         Country  Stars  \n",
       "0         Taiwan   3.00  \n",
       "1  United States   4.50  \n",
       "2        Vietnam   3.00  \n",
       "3         Taiwan   4.50  \n",
       "4  United States   2.75  "
      ]
     },
     "execution_count": 29,
     "metadata": {},
     "output_type": "execute_result"
    }
   ],
   "source": [
    "ramen_df.head()"
   ]
  },
  {
   "cell_type": "code",
   "execution_count": 30,
   "metadata": {},
   "outputs": [
    {
     "data": {
      "text/html": [
       "<div>\n",
       "<style scoped>\n",
       "    .dataframe tbody tr th:only-of-type {\n",
       "        vertical-align: middle;\n",
       "    }\n",
       "\n",
       "    .dataframe tbody tr th {\n",
       "        vertical-align: top;\n",
       "    }\n",
       "\n",
       "    .dataframe thead th {\n",
       "        text-align: right;\n",
       "    }\n",
       "</style>\n",
       "<table border=\"1\" class=\"dataframe\">\n",
       "  <thead>\n",
       "    <tr style=\"text-align: right;\">\n",
       "      <th></th>\n",
       "      <th>Stars</th>\n",
       "    </tr>\n",
       "  </thead>\n",
       "  <tbody>\n",
       "    <tr>\n",
       "      <th>count</th>\n",
       "      <td>4117.000000</td>\n",
       "    </tr>\n",
       "    <tr>\n",
       "      <th>mean</th>\n",
       "      <td>3.726779</td>\n",
       "    </tr>\n",
       "    <tr>\n",
       "      <th>std</th>\n",
       "      <td>1.053681</td>\n",
       "    </tr>\n",
       "    <tr>\n",
       "      <th>min</th>\n",
       "      <td>0.000000</td>\n",
       "    </tr>\n",
       "    <tr>\n",
       "      <th>25%</th>\n",
       "      <td>3.250000</td>\n",
       "    </tr>\n",
       "    <tr>\n",
       "      <th>50%</th>\n",
       "      <td>3.750000</td>\n",
       "    </tr>\n",
       "    <tr>\n",
       "      <th>75%</th>\n",
       "      <td>4.500000</td>\n",
       "    </tr>\n",
       "    <tr>\n",
       "      <th>max</th>\n",
       "      <td>5.000000</td>\n",
       "    </tr>\n",
       "  </tbody>\n",
       "</table>\n",
       "</div>"
      ],
      "text/plain": [
       "             Stars\n",
       "count  4117.000000\n",
       "mean      3.726779\n",
       "std       1.053681\n",
       "min       0.000000\n",
       "25%       3.250000\n",
       "50%       3.750000\n",
       "75%       4.500000\n",
       "max       5.000000"
      ]
     },
     "execution_count": 30,
     "metadata": {},
     "output_type": "execute_result"
    }
   ],
   "source": [
    "ramen_df.describe()"
   ]
  },
  {
   "cell_type": "code",
   "execution_count": 31,
   "metadata": {},
   "outputs": [
    {
     "data": {
      "text/plain": [
       "(4117, 5)"
      ]
     },
     "execution_count": 31,
     "metadata": {},
     "output_type": "execute_result"
    }
   ],
   "source": [
    "ramen_df.shape"
   ]
  },
  {
   "cell_type": "code",
   "execution_count": 32,
   "metadata": {},
   "outputs": [],
   "source": [
    "ramen_df.to_csv('ramen_cleaned', index = False)"
   ]
  },
  {
   "cell_type": "markdown",
   "metadata": {},
   "source": [
    "### What is the structure of the dataset?\n",
    "\n",
    "> The dataset contains 4120 rows and 7 columns. After cleaning, two irrelevant columns (Review # and T) were dropped and three rows were dropped as they had incorrect star ratings. The cleaned dataset now has 4117 rows and 5 columns.\n",
    "\n",
    "### What is/are the main feature(s) of interest in the dataset?\n",
    "\n",
    "> I am most interested in finding out what features influence the star ratings of a ramen.\n",
    "\n",
    "### What features in the dataset do I think will help support the investigation into the feature(s) of interest?\n",
    "\n",
    "> I expect that ramen style will have the most effect on star ratings. I also think that the country where a ramen is produced can affect the star ratings because of a possible bias for asian countries. I think that brand may also affect the star ratings as well."
   ]
  },
  {
   "cell_type": "markdown",
   "metadata": {},
   "source": [
    "<a id='eda'></a>\n",
    "## Exploratory Data Analysis\n",
    "\n",
    "### Univariate Exploration\n",
    "\n",
    "#### What is the distribution of the ramen stars rating?"
   ]
  },
  {
   "cell_type": "code",
   "execution_count": 33,
   "metadata": {},
   "outputs": [
    {
     "data": {
      "image/png": "[encoded data removed]",
      "text/plain": [
       "<Figure size 576x360 with 1 Axes>"
      ]
     },
     "metadata": {
      "needs_background": "light"
     },
     "output_type": "display_data"
    }
   ],
   "source": [
    "bins = np.arange(0, ramen_df['Stars'].max()+0.25, 0.25)\n",
    "\n",
    "plt.figure(figsize=[8, 5])\n",
    "plt.hist(data = ramen_df, x = 'Stars', bins = bins)\n",
    "plt.xlabel('Stars')\n",
    "plt.ylabel('count');\n",
    "plt.title('Distribution of Stars ratings (normal)');"
   ]
  },
  {
   "cell_type": "markdown",
   "metadata": {},
   "source": [
    "I was expecting a bell shaped distribution, but the histogram shows a left skewed distribution. Let's find out what a log transformation to the Stars column will do to the distribution."
   ]
  },
  {
   "cell_type": "code",
   "execution_count": 34,
   "metadata": {},
   "outputs": [
    {
     "name": "stderr",
     "output_type": "stream",
     "text": [
      "C:\\Users\\Gladens\\anaconda3\\lib\\site-packages\\pandas\\core\\series.py:679: RuntimeWarning: divide by zero encountered in log10\n",
      "  result = getattr(ufunc, method)(*inputs, **kwargs)\n"
     ]
    },
    {
     "data": {
      "text/plain": [
       "count    4117.000000\n",
       "mean            -inf\n",
       "std              NaN\n",
       "min             -inf\n",
       "25%         0.511883\n",
       "50%         0.574031\n",
       "75%         0.653213\n",
       "max         0.698970\n",
       "Name: Stars, dtype: float64"
      ]
     },
     "execution_count": 34,
     "metadata": {},
     "output_type": "execute_result"
    }
   ],
   "source": [
    "np.log10(ramen_df['Stars']).describe()"
   ]
  },
  {
   "cell_type": "code",
   "execution_count": 35,
   "metadata": {},
   "outputs": [
    {
     "data": {
      "image/png": "[encoded data removed]",
      "text/plain": [
       "<Figure size 576x360 with 1 Axes>"
      ]
     },
     "metadata": {
      "needs_background": "light"
     },
     "output_type": "display_data"
    }
   ],
   "source": [
    "#Applying a log transformation to the Stars rating and visualizing the distribution.\n",
    "log_binsize = 0.05\n",
    "bins = 10 ** np.arange(0, np.log10(ramen_df['Stars'].max())+log_binsize, log_binsize)\n",
    "\n",
    "plt.figure(figsize=[8, 5])\n",
    "plt.hist(data = ramen_df, x = 'Stars', bins = bins)\n",
    "plt.xscale('log')\n",
    "plt.xticks([1e0, 2e0, 3e0, 4e0, 5e0, 6e0], [0, 1, 2, 3, 4, 5])\n",
    "plt.xlabel('Stars')\n",
    "plt.ylabel('count')\n",
    "plt.title('Distribution of Stars ratings (log transformation)');\n",
    "plt.show()"
   ]
  },
  {
   "cell_type": "markdown",
   "metadata": {},
   "source": [
    "After a log transformation, there is no significant change in the disribution. The stars ratings distribution is still left skewed."
   ]
  },
  {
   "cell_type": "markdown",
   "metadata": {},
   "source": [
    "#### What ramen Style is the most common?"
   ]
  },
  {
   "cell_type": "code",
   "execution_count": 36,
   "metadata": {
    "scrolled": true
   },
   "outputs": [
    {
     "data": {
      "image/png": "[encoded data removed]",
      "text/plain": [
       "<Figure size 576x360 with 1 Axes>"
      ]
     },
     "metadata": {
      "needs_background": "light"
     },
     "output_type": "display_data"
    }
   ],
   "source": [
    "color = sns.color_palette()[0]\n",
    "\n",
    "plt.figure(figsize=[8, 5])\n",
    "sns.countplot(data = ramen_df, y = 'Style', color = color);\n",
    "plt.xlabel('count')\n",
    "plt.ylabel('Style')\n",
    "plt.title('# of ramen products by style');"
   ]
  },
  {
   "cell_type": "markdown",
   "metadata": {},
   "source": [
    "The most common style used by ramen brands is Pack, followed by Bowl and then Cup. Bottle, Restaurant, Can and Bar are the least used styles by ramen brands."
   ]
  },
  {
   "cell_type": "markdown",
   "metadata": {},
   "source": [
    "#### What Country has the most ramen products?"
   ]
  },
  {
   "cell_type": "code",
   "execution_count": 37,
   "metadata": {},
   "outputs": [],
   "source": [
    "order = ramen_df.Country.value_counts()"
   ]
  },
  {
   "cell_type": "code",
   "execution_count": 38,
   "metadata": {},
   "outputs": [
    {
     "data": {
      "text/plain": [
       "Index(['Japan', 'United States', 'South Korea', 'Taiwan', 'China', 'Thailand',\n",
       "       'Malaysia', 'Hong Kong', 'Indonesia', 'Singapore', 'Vietnam',\n",
       "       'United Kingdom', 'Canada', 'Philippines', 'India', 'Germany', 'Mexico',\n",
       "       'Australia', 'Brazil', 'Netherlands', 'Nepal', 'Myanmar', 'Pakistan',\n",
       "       'Bangladesh', 'Hungary', 'Russia', 'Poland', 'Colombia', 'France',\n",
       "       'Serbia', 'Sarawak', 'Cambodia', 'Holland', 'Fiji', 'Ireland', 'Peru',\n",
       "       'Italy', 'Finland', 'Israel', 'Dubai', 'Spain', 'Ukraine', 'Sweden',\n",
       "       'Nigeria', 'Estonia', 'Ghana', 'New Zealand', 'Portugal'],\n",
       "      dtype='object')"
      ]
     },
     "execution_count": 38,
     "metadata": {},
     "output_type": "execute_result"
    }
   ],
   "source": [
    "order.index"
   ]
  },
  {
   "cell_type": "code",
   "execution_count": 39,
   "metadata": {},
   "outputs": [
    {
     "data": {
      "image/png": "[encoded data removed]",
      "text/plain": [
       "<Figure size 576x1440 with 1 Axes>"
      ]
     },
     "metadata": {
      "needs_background": "light"
     },
     "output_type": "display_data"
    }
   ],
   "source": [
    "plt.figure(figsize=[8, 20])\n",
    "sns.countplot(data = ramen_df, y = 'Country', color = color, order = order.index);\n",
    "plt.xlabel('count')\n",
    "plt.ylabel('Country')\n",
    "plt.title('# of ramen products by country');"
   ]
  },
  {
   "cell_type": "markdown",
   "metadata": {},
   "source": [
    "Japan has the highest total number of ramen_brands, followed by United States and then South Korea. "
   ]
  },
  {
   "cell_type": "markdown",
   "metadata": {},
   "source": [
    "#### Which brand is the most common?"
   ]
  },
  {
   "cell_type": "code",
   "execution_count": 40,
   "metadata": {},
   "outputs": [],
   "source": [
    "brand_order = ramen_df.Brand.value_counts()\n",
    "top_brands_by_count = list(brand_order.index[:20])"
   ]
  },
  {
   "cell_type": "code",
   "execution_count": 41,
   "metadata": {},
   "outputs": [
    {
     "data": {
      "image/png": "[encoded data removed]",
      "text/plain": [
       "<Figure size 576x1440 with 1 Axes>"
      ]
     },
     "metadata": {
      "needs_background": "light"
     },
     "output_type": "display_data"
    }
   ],
   "source": [
    "#Visualizing the top 20 brands by counts as the number of brand is too much to be visualized.\n",
    "top_brands_df = ramen_df[ramen_df.Brand.isin(top_brands_by_count)]\n",
    "\n",
    "plt.figure(figsize=[8, 20])\n",
    "order = top_brands_df.Brand.value_counts()\n",
    "sns.countplot(data = top_brands_df, y = 'Brand', color = color, order = order.index);\n",
    "plt.xlabel('count')\n",
    "plt.ylabel('Brand')\n",
    "plt.title('Top 20 brands by count');"
   ]
  },
  {
   "cell_type": "markdown",
   "metadata": {},
   "source": [
    "The most common brand is Nissan followed by Maruchan and then Myojo."
   ]
  },
  {
   "cell_type": "markdown",
   "metadata": {},
   "source": [
    "### Bivariate Exploration"
   ]
  },
  {
   "cell_type": "markdown",
   "metadata": {},
   "source": [
    "#### What is the average star ratings for each ramen style?"
   ]
  },
  {
   "cell_type": "code",
   "execution_count": 42,
   "metadata": {},
   "outputs": [
    {
     "data": {
      "text/plain": [
       "Style\n",
       "Bar           5.000000\n",
       "Bottle        4.000000\n",
       "Bowl          3.738708\n",
       "Box           4.262821\n",
       "Can           3.500000\n",
       "Cup           3.493170\n",
       "Pack          3.797265\n",
       "Restaurant    3.583333\n",
       "Tray          3.572115\n",
       "Name: Stars, dtype: float64"
      ]
     },
     "execution_count": 42,
     "metadata": {},
     "output_type": "execute_result"
    }
   ],
   "source": [
    "avg_stars_by_style = ramen_df.groupby('Style')['Stars'].mean()\n",
    "avg_stars_by_style"
   ]
  },
  {
   "cell_type": "code",
   "execution_count": 43,
   "metadata": {},
   "outputs": [
    {
     "data": {
      "image/png": "[encoded data removed]",
      "text/plain": [
       "<Figure size 1080x576 with 1 Axes>"
      ]
     },
     "metadata": {
      "needs_background": "light"
     },
     "output_type": "display_data"
    }
   ],
   "source": [
    "plt.figure(figsize = [15, 8])\n",
    "sns.barplot(data = ramen_df, x = 'Style', y = 'Stars', color = color)\n",
    "plt.ylabel('Average Stars')\n",
    "plt.xlabel('Ramen style')\n",
    "plt.title('Average Star ratings by ramen style');"
   ]
  },
  {
   "cell_type": "code",
   "execution_count": 44,
   "metadata": {},
   "outputs": [
    {
     "name": "stdout",
     "output_type": "stream",
     "text": [
      "      Brand                   Variety   Style        Country  Stars\n",
      "149  Yamasa  Artisanal Tonkotsu Broth  Bottle  United States    4.0\n",
      "-----------------\n",
      "         Brand                                         Variety Style  \\\n",
      "1607  Pringles  Nissin Top Ramen Chicken Flavor Potato Crisps    Can   \n",
      "\n",
      "            Country  Stars  \n",
      "1607  United States    3.5  \n",
      "-----------------\n",
      "                     Brand        Variety Style        Country  Stars\n",
      "2965  Komforte Chockolates  Savory Ramen    Bar  United States    5.0\n"
     ]
    }
   ],
   "source": [
    "print(ramen_df[ramen_df.Style == 'Bottle'])\n",
    "print(\"-----------------\")\n",
    "print(ramen_df[ramen_df.Style == 'Can'])\n",
    "print(\"-----------------\")\n",
    "print(ramen_df[ramen_df.Style == 'Bar'])"
   ]
  },
  {
   "cell_type": "markdown",
   "metadata": {},
   "source": [
    "Ramen product with the style Bar has the highest star ratings on average but this is because only one ramen product record has the style Bar and it had a star rating of 5.0! Also Can and Bottle ramen styles both have a average star ratings of 3.5 and 4.0 respectively because there is only one ramen product record for each style. The ramen products with the style Box have the second highest star ratings on average of 4.262821. Ramen products with the Cup style have the lowest star ratings on average."
   ]
  },
  {
   "cell_type": "markdown",
   "metadata": {},
   "source": [
    "#### What country has the highest rating for ramen products?"
   ]
  },
  {
   "cell_type": "code",
   "execution_count": 45,
   "metadata": {},
   "outputs": [
    {
     "data": {
      "text/plain": [
       "Country\n",
       "Australia         3.260000\n",
       "Bangladesh        3.479167\n",
       "Brazil            3.645833\n",
       "Cambodia          4.200000\n",
       "Canada            2.330357\n",
       "China             3.563112\n",
       "Colombia          3.291667\n",
       "Dubai             3.583333\n",
       "Estonia           3.500000\n",
       "Fiji              3.875000\n",
       "Finland           3.583333\n",
       "France            4.333333\n",
       "Germany           3.532895\n",
       "Ghana             3.500000\n",
       "Holland           3.562500\n",
       "Hong Kong         3.875610\n",
       "Hungary           3.611111\n",
       "India             3.456522\n",
       "Indonesia         4.122857\n",
       "Ireland           1.500000\n",
       "Israel            3.000000\n",
       "Italy             2.750000\n",
       "Japan             3.862031\n",
       "Malaysia          4.187611\n",
       "Mexico            3.609375\n",
       "Myanmar           3.946429\n",
       "Nepal             3.517857\n",
       "Netherlands       2.500000\n",
       "New Zealand       3.000000\n",
       "Nigeria           2.375000\n",
       "Pakistan          3.192308\n",
       "Peru              3.375000\n",
       "Philippines       3.407407\n",
       "Poland            3.083333\n",
       "Portugal          2.000000\n",
       "Russia            3.571429\n",
       "Sarawak           4.000000\n",
       "Serbia            2.300000\n",
       "Singapore         4.109375\n",
       "South Korea       3.862093\n",
       "Spain             4.000000\n",
       "Sweden            3.250000\n",
       "Taiwan            3.912222\n",
       "Thailand          3.475322\n",
       "Ukraine           3.583333\n",
       "United Kingdom    3.116883\n",
       "United States     3.571523\n",
       "Vietnam           3.221318\n",
       "Name: Stars, dtype: float64"
      ]
     },
     "execution_count": 45,
     "metadata": {},
     "output_type": "execute_result"
    }
   ],
   "source": [
    "avg_stars_by_country = ramen_df.groupby('Country')['Stars'].mean()\n",
    "avg_stars_by_country"
   ]
  },
  {
   "cell_type": "code",
   "execution_count": 46,
   "metadata": {},
   "outputs": [
    {
     "data": {
      "image/png": "[encoded data removed]",
      "text/plain": [
       "<Figure size 1080x1080 with 1 Axes>"
      ]
     },
     "metadata": {
      "needs_background": "light"
     },
     "output_type": "display_data"
    }
   ],
   "source": [
    "plt.figure(figsize = [15, 15])\n",
    "sns.barplot(data = ramen_df, y = 'Country', x = 'Stars', color = color)\n",
    "plt.xlabel('Average Stars')\n",
    "plt.ylabel('Country')\n",
    "plt.title('Average Star ratings by Country');"
   ]
  },
  {
   "cell_type": "markdown",
   "metadata": {},
   "source": [
    "France has the highest average rating for ramen products while Ireland has the lowest average rating. We must note that some countries have only one recored ramen product, so their average rating score may not be useful for analysis. These countries are Portugal, New Zealand and Ghana."
   ]
  },
  {
   "cell_type": "markdown",
   "metadata": {},
   "source": [
    "#### What Ramen Brands have the highest average stars?"
   ]
  },
  {
   "cell_type": "code",
   "execution_count": 47,
   "metadata": {},
   "outputs": [
    {
     "data": {
      "text/plain": [
       "Brand\n",
       "Nishiyama Seimen          5.000000\n",
       "Fukumen                   5.000000\n",
       "Mr. Lee's                 5.000000\n",
       "Super God                 5.000000\n",
       "Himawari-Shokuhin         5.000000\n",
       "                            ...   \n",
       "Chef Nic's Noodles        5.000000\n",
       "Neo~Essence               5.000000\n",
       "Chillies Brand            5.000000\n",
       "Chil Kab Farm Products    5.000000\n",
       "Prima Taste               4.961538\n",
       "Name: Stars, Length: 67, dtype: float64"
      ]
     },
     "execution_count": 47,
     "metadata": {},
     "output_type": "execute_result"
    }
   ],
   "source": [
    "avg_stars_by_brand = ramen_df.groupby('Brand')['Stars'].mean()\n",
    "avg_stars_by_brand.sort_values(ascending = False)[:67]"
   ]
  },
  {
   "cell_type": "code",
   "execution_count": 48,
   "metadata": {},
   "outputs": [
    {
     "data": {
      "text/plain": [
       "Brand\n",
       "US Canning                            0.000\n",
       "Yibin                                 0.000\n",
       "Dr. McDougall's                       0.000\n",
       "Isoyama Shoji                         0.000\n",
       "Kim Ve Wong                           0.000\n",
       "Nanoblock                             0.000\n",
       "Simply Asia                           0.000\n",
       "Fairy Bridge                          0.000\n",
       "One Dish Asia                         0.000\n",
       "Tiger                                 0.000\n",
       "Hikari Miso                           0.000\n",
       "Base Foods                            0.000\n",
       "Hsin Tung Yang                        0.000\n",
       "Bowlfull                              0.000\n",
       "Roland                                0.125\n",
       "Crystal Noodle                        0.250\n",
       "Chongqing Suanlabao Food Co., Ltd.    0.250\n",
       "Mitoku                                0.250\n",
       "Nan Hsing                             0.250\n",
       "Unif Tung-I                           0.500\n",
       "Name: Stars, dtype: float64"
      ]
     },
     "execution_count": 48,
     "metadata": {},
     "output_type": "execute_result"
    }
   ],
   "source": [
    "avg_stars_by_brand.sort_values(ascending = True)[:20]"
   ]
  },
  {
   "cell_type": "markdown",
   "metadata": {},
   "source": [
    "66 different Brands have average star ratings of 5.0. The next Brand with the closest average star rating to 5.0 is Prima Taste Brand with average star rating of 4.961538. The Brands US Canning, Yibin, Dr. McDougall's, Isoyama Shoji, Kim Ve Wong, Nanoblock, Simply Asia, Fairy Bridge, One Dish Asia, Tiger, Hikari Miso, Base Foods, Hsin Tung Yang, and Bowlfull all have the lowest average star ratings of 0.0. The next Brand with the closest average star rating to 0.0 is Roland Brand with average star rating of 0.125000."
   ]
  },
  {
   "cell_type": "markdown",
   "metadata": {},
   "source": [
    "### Feature Engineering\n",
    "For deeper analysis and insights.\n",
    "\n",
    "#### Spicy Ramen Products\n",
    "Ramen products with any of ['Hot Sauce', 'Spicy', 'Pepper', 'Hot', 'Chili'] in the Variety column."
   ]
  },
  {
   "cell_type": "code",
   "execution_count": 49,
   "metadata": {},
   "outputs": [],
   "source": [
    "ramen_df['Spicy'] = np.where(ramen_df['Variety'].str.contains('Spicy|Hot|Pepper|Chili'), 'Spicy', 'Not Spicy')"
   ]
  },
  {
   "cell_type": "code",
   "execution_count": 50,
   "metadata": {},
   "outputs": [
    {
     "name": "stdout",
     "output_type": "stream",
     "text": [
      "673\n",
      "3444\n"
     ]
    },
    {
     "data": {
      "image/png": "[encoded data removed]",
      "text/plain": [
       "<Figure size 432x288 with 1 Axes>"
      ]
     },
     "metadata": {},
     "output_type": "display_data"
    }
   ],
   "source": [
    "labels = 'Spicy', 'Not Spicy'\n",
    "spicy_size = 0\n",
    "not_spicy_size = 0\n",
    "for i in ramen_df['Spicy']:\n",
    "    if i == 'Spicy':\n",
    "        spicy_size += 1\n",
    "    else:\n",
    "        not_spicy_size +=1\n",
    "print(spicy_size)\n",
    "print(not_spicy_size)\n",
    "sizes = [(spicy_size / len(ramen_df)) * 100, (not_spicy_size / len(ramen_df)) * 100]\n",
    "explode = (0.1, 0)\n",
    "\n",
    "fig1, ax1 = plt.subplots()\n",
    "ax1.pie(sizes, explode=explode, labels=labels, autopct='%1.1f%%',\n",
    "        shadow=True, startangle=90)\n",
    "ax1.axis('equal')  # Equal aspect ratio ensures that pie is drawn as a circle.\n",
    "\n",
    "plt.title('Percentage of Ramen products with Spicy Flavor\\n')\n",
    "\n",
    "plt.show()"
   ]
  },
  {
   "cell_type": "markdown",
   "metadata": {},
   "source": [
    "The Percentage of Ramen products with Spicy Flavor is 16.3%(673 spicy ramen products 0f 4117 total ramen products)."
   ]
  },
  {
   "cell_type": "markdown",
   "metadata": {},
   "source": [
    "#### Chicken Flavored Ramen Products"
   ]
  },
  {
   "cell_type": "code",
   "execution_count": 51,
   "metadata": {},
   "outputs": [],
   "source": [
    "ramen_df['Chicken_Flavor'] = np.where(ramen_df['Variety'].str.contains('Chicken|Chikin'), 'Chicken', 'Not Chicken')"
   ]
  },
  {
   "cell_type": "code",
   "execution_count": 52,
   "metadata": {},
   "outputs": [
    {
     "name": "stdout",
     "output_type": "stream",
     "text": [
      "484\n",
      "3633\n"
     ]
    },
    {
     "data": {
      "image/png": "[encoded data removed]",
      "text/plain": [
       "<Figure size 432x288 with 1 Axes>"
      ]
     },
     "metadata": {},
     "output_type": "display_data"
    }
   ],
   "source": [
    "labels = 'Chicken', 'Not Chicken'\n",
    "chicken_size = 0\n",
    "not_chicken_size = 0\n",
    "for i in ramen_df['Chicken_Flavor']:\n",
    "    if i == 'Chicken':\n",
    "        chicken_size += 1\n",
    "    else:\n",
    "        not_chicken_size +=1\n",
    "print(chicken_size)\n",
    "print(not_chicken_size)\n",
    "sizes = [(chicken_size / len(ramen_df)) * 100, (not_chicken_size / len(ramen_df)) * 100]\n",
    "explode = (0.1, 0) \n",
    "\n",
    "fig1, ax1 = plt.subplots()\n",
    "ax1.pie(sizes, explode=explode, labels=labels, autopct='%1.1f%%',\n",
    "        shadow=True, startangle=90)\n",
    "ax1.axis('equal')  # Equal aspect ratio ensures that pie is drawn as a circle.\n",
    "\n",
    "plt.title('Percentage of Ramen products with Chicken Flavor\\n')\n",
    "\n",
    "plt.show()"
   ]
  },
  {
   "cell_type": "markdown",
   "metadata": {},
   "source": [
    "The Percentage of Ramen products with Spicy Flavor is 11.8%(484 chicken ramen products 0f 4117 total ramen products)."
   ]
  },
  {
   "cell_type": "markdown",
   "metadata": {},
   "source": [
    "#### Seafood Flavored Ramen Products"
   ]
  },
  {
   "cell_type": "code",
   "execution_count": 53,
   "metadata": {},
   "outputs": [],
   "source": [
    "ramen_df['Seafood'] = np.where(ramen_df['Variety'].str.contains('Seafood'), 'Seafood', 'Not Seafood')"
   ]
  },
  {
   "cell_type": "code",
   "execution_count": 54,
   "metadata": {},
   "outputs": [
    {
     "name": "stdout",
     "output_type": "stream",
     "text": [
      "151\n",
      "3966\n"
     ]
    },
    {
     "data": {
      "image/png": "[encoded data removed]",
      "text/plain": [
       "<Figure size 432x288 with 1 Axes>"
      ]
     },
     "metadata": {},
     "output_type": "display_data"
    }
   ],
   "source": [
    "labels = 'Seafood', 'Not Seafood'\n",
    "seafood_size = 0\n",
    "not_seafood_size = 0\n",
    "for i in ramen_df['Seafood']:\n",
    "    if i == 'Seafood':\n",
    "        seafood_size += 1\n",
    "    else:\n",
    "        not_seafood_size +=1\n",
    "print(seafood_size)\n",
    "print(not_seafood_size)\n",
    "sizes = [(seafood_size / len(ramen_df)) * 100, (not_seafood_size / len(ramen_df)) * 100]\n",
    "explode = (0.1, 0)\n",
    "\n",
    "fig1, ax1 = plt.subplots()\n",
    "ax1.pie(sizes, explode=explode, labels=labels, autopct='%1.1f%%',\n",
    "        shadow=True, startangle=90)\n",
    "ax1.axis('equal')  # Equal aspect ratio ensures that pie is drawn as a circle.\n",
    "\n",
    "plt.title('Percentage of Ramen products with Seafood Flavor\\n')\n",
    "\n",
    "plt.show()"
   ]
  },
  {
   "cell_type": "markdown",
   "metadata": {},
   "source": [
    "The Percentage of Ramen products with Spicy Flavor is 3.7%(151 seafood ramen products 0f 4117 total ramen products)."
   ]
  },
  {
   "cell_type": "markdown",
   "metadata": {},
   "source": [
    "### Further Analysis\n",
    "#### Do ramen products with Spicy flavor have higher star ratings on average?"
   ]
  },
  {
   "cell_type": "code",
   "execution_count": 55,
   "metadata": {},
   "outputs": [
    {
     "data": {
      "text/plain": [
       "Spicy\n",
       "Not Spicy    3.723802\n",
       "Spicy        3.742013\n",
       "Name: Stars, dtype: float64"
      ]
     },
     "execution_count": 55,
     "metadata": {},
     "output_type": "execute_result"
    }
   ],
   "source": [
    "avg_stars_by_spice = ramen_df.groupby('Spicy')['Stars'].mean()\n",
    "avg_stars_by_spice"
   ]
  },
  {
   "cell_type": "code",
   "execution_count": 56,
   "metadata": {},
   "outputs": [
    {
     "data": {
      "image/png": "[encoded data removed]",
      "text/plain": [
       "<Figure size 432x288 with 1 Axes>"
      ]
     },
     "metadata": {
      "needs_background": "light"
     },
     "output_type": "display_data"
    }
   ],
   "source": [
    "avg_stars_by_spice.plot(kind= 'barh')\n",
    "plt.xlabel('Average Star Rating')\n",
    "plt.title('Average Star Rating of Ramen(Spicy Flavor)');"
   ]
  },
  {
   "cell_type": "markdown",
   "metadata": {},
   "source": [
    "Ramen products with spicy flavor have higher star ratings on average. The difference between the average star ratings of ramen products with spicy flavor and those without it is 0.018."
   ]
  },
  {
   "cell_type": "markdown",
   "metadata": {},
   "source": [
    "#### Do ramen products with Chicken flavor have higher star ratings on average?"
   ]
  },
  {
   "cell_type": "code",
   "execution_count": 57,
   "metadata": {},
   "outputs": [
    {
     "data": {
      "text/plain": [
       "Chicken_Flavor\n",
       "Chicken        3.524122\n",
       "Not Chicken    3.753778\n",
       "Name: Stars, dtype: float64"
      ]
     },
     "execution_count": 57,
     "metadata": {},
     "output_type": "execute_result"
    }
   ],
   "source": [
    "avg_stars_by_chicken_flavor = ramen_df.groupby('Chicken_Flavor')['Stars'].mean()\n",
    "avg_stars_by_chicken_flavor"
   ]
  },
  {
   "cell_type": "code",
   "execution_count": 58,
   "metadata": {},
   "outputs": [
    {
     "data": {
      "image/png": "[encoded data removed]",
      "text/plain": [
       "<Figure size 432x288 with 1 Axes>"
      ]
     },
     "metadata": {
      "needs_background": "light"
     },
     "output_type": "display_data"
    }
   ],
   "source": [
    "avg_stars_by_chicken_flavor.plot(kind= 'barh')\n",
    "plt.xlabel('Average Star Rating')\n",
    "plt.title('Average Star Rating of Ramen(Chicken Flavor)');"
   ]
  },
  {
   "cell_type": "markdown",
   "metadata": {},
   "source": [
    "Ramen products with chicken flavor have lower average star ratings than those without chicken flavor. The average star ratings of ramen products without chicken flavor is greater than those with chicken flavor by 0.23."
   ]
  },
  {
   "cell_type": "markdown",
   "metadata": {},
   "source": [
    "#### Do ramen products with Seafood flavor have higher star ratings on average?"
   ]
  },
  {
   "cell_type": "code",
   "execution_count": 59,
   "metadata": {},
   "outputs": [
    {
     "data": {
      "text/plain": [
       "Seafood\n",
       "Not Seafood    3.722806\n",
       "Seafood        3.831126\n",
       "Name: Stars, dtype: float64"
      ]
     },
     "execution_count": 59,
     "metadata": {},
     "output_type": "execute_result"
    }
   ],
   "source": [
    "avg_stars_by_seafood = ramen_df.groupby('Seafood')['Stars'].mean()\n",
    "avg_stars_by_seafood"
   ]
  },
  {
   "cell_type": "code",
   "execution_count": 60,
   "metadata": {
    "scrolled": true
   },
   "outputs": [
    {
     "data": {
      "image/png": "[encoded data removed]",
      "text/plain": [
       "<Figure size 432x288 with 1 Axes>"
      ]
     },
     "metadata": {
      "needs_background": "light"
     },
     "output_type": "display_data"
    }
   ],
   "source": [
    "avg_stars_by_seafood.plot(kind= 'barh')\n",
    "plt.xlabel('Average Star Rating')\n",
    "plt.title('Average Star Rating of Ramen(Seafood Flavor)');"
   ]
  },
  {
   "cell_type": "markdown",
   "metadata": {},
   "source": [
    "Ramen products with seafood flavor have higher star ratings average. The difference between the average star ratings of ramen products with seafood flavor and those without it is 0.11."
   ]
  },
  {
   "cell_type": "markdown",
   "metadata": {},
   "source": [
    "### Combine the three columns spice, chicken and seafood into one column called flavor."
   ]
  },
  {
   "cell_type": "code",
   "execution_count": 61,
   "metadata": {},
   "outputs": [],
   "source": [
    "ramen_df['Spicy'].replace('Not Spicy', np.nan, inplace = True)\n",
    "ramen_df['Chicken_Flavor'].replace('Not Chicken', np.nan, inplace = True)\n",
    "ramen_df['Seafood'].replace('Not Seafood', np.nan, inplace = True)"
   ]
  },
  {
   "cell_type": "code",
   "execution_count": 62,
   "metadata": {},
   "outputs": [],
   "source": [
    "ramen_df['Flavor'] = ramen_df[['Spicy', 'Chicken_Flavor', 'Seafood']].apply(lambda x: ','.join(x[x.notnull()]), axis = 1)"
   ]
  },
  {
   "cell_type": "code",
   "execution_count": 63,
   "metadata": {},
   "outputs": [
    {
     "data": {
      "text/html": [
       "<div>\n",
       "<style scoped>\n",
       "    .dataframe tbody tr th:only-of-type {\n",
       "        vertical-align: middle;\n",
       "    }\n",
       "\n",
       "    .dataframe tbody tr th {\n",
       "        vertical-align: top;\n",
       "    }\n",
       "\n",
       "    .dataframe thead th {\n",
       "        text-align: right;\n",
       "    }\n",
       "</style>\n",
       "<table border=\"1\" class=\"dataframe\">\n",
       "  <thead>\n",
       "    <tr style=\"text-align: right;\">\n",
       "      <th></th>\n",
       "      <th>Brand</th>\n",
       "      <th>Variety</th>\n",
       "      <th>Style</th>\n",
       "      <th>Country</th>\n",
       "      <th>Stars</th>\n",
       "      <th>Spicy</th>\n",
       "      <th>Chicken_Flavor</th>\n",
       "      <th>Seafood</th>\n",
       "      <th>Flavor</th>\n",
       "    </tr>\n",
       "  </thead>\n",
       "  <tbody>\n",
       "    <tr>\n",
       "      <th>0</th>\n",
       "      <td>MIT</td>\n",
       "      <td>Shallot Sauce Dry Noodle</td>\n",
       "      <td>Pack</td>\n",
       "      <td>Taiwan</td>\n",
       "      <td>3.00</td>\n",
       "      <td>NaN</td>\n",
       "      <td>NaN</td>\n",
       "      <td>NaN</td>\n",
       "      <td></td>\n",
       "    </tr>\n",
       "    <tr>\n",
       "      <th>1</th>\n",
       "      <td>Sapporo Ichiban</td>\n",
       "      <td>Tonkotsu Ramen Japanese Style Noodles</td>\n",
       "      <td>Bowl</td>\n",
       "      <td>United States</td>\n",
       "      <td>4.50</td>\n",
       "      <td>NaN</td>\n",
       "      <td>NaN</td>\n",
       "      <td>NaN</td>\n",
       "      <td></td>\n",
       "    </tr>\n",
       "    <tr>\n",
       "      <th>2</th>\n",
       "      <td>Binh Tay</td>\n",
       "      <td>Mi Kiwi</td>\n",
       "      <td>Bowl</td>\n",
       "      <td>Vietnam</td>\n",
       "      <td>3.00</td>\n",
       "      <td>NaN</td>\n",
       "      <td>NaN</td>\n",
       "      <td>NaN</td>\n",
       "      <td></td>\n",
       "    </tr>\n",
       "    <tr>\n",
       "      <th>3</th>\n",
       "      <td>Charming Couple</td>\n",
       "      <td>Biang Biang Scallion Chicken Sauce</td>\n",
       "      <td>Pack</td>\n",
       "      <td>Taiwan</td>\n",
       "      <td>4.50</td>\n",
       "      <td>NaN</td>\n",
       "      <td>Chicken</td>\n",
       "      <td>NaN</td>\n",
       "      <td>Chicken</td>\n",
       "    </tr>\n",
       "    <tr>\n",
       "      <th>4</th>\n",
       "      <td>immi</td>\n",
       "      <td>Tom Yum Shrimp Flavor Ramen Soup</td>\n",
       "      <td>Pack</td>\n",
       "      <td>United States</td>\n",
       "      <td>2.75</td>\n",
       "      <td>NaN</td>\n",
       "      <td>NaN</td>\n",
       "      <td>NaN</td>\n",
       "      <td></td>\n",
       "    </tr>\n",
       "  </tbody>\n",
       "</table>\n",
       "</div>"
      ],
      "text/plain": [
       "             Brand                                Variety Style  \\\n",
       "0              MIT               Shallot Sauce Dry Noodle  Pack   \n",
       "1  Sapporo Ichiban  Tonkotsu Ramen Japanese Style Noodles  Bowl   \n",
       "2         Binh Tay                                Mi Kiwi  Bowl   \n",
       "3  Charming Couple     Biang Biang Scallion Chicken Sauce  Pack   \n",
       "4             immi       Tom Yum Shrimp Flavor Ramen Soup  Pack   \n",
       "\n",
       "         Country  Stars Spicy Chicken_Flavor Seafood   Flavor  \n",
       "0         Taiwan   3.00   NaN            NaN     NaN           \n",
       "1  United States   4.50   NaN            NaN     NaN           \n",
       "2        Vietnam   3.00   NaN            NaN     NaN           \n",
       "3         Taiwan   4.50   NaN        Chicken     NaN  Chicken  \n",
       "4  United States   2.75   NaN            NaN     NaN           "
      ]
     },
     "execution_count": 63,
     "metadata": {},
     "output_type": "execute_result"
    }
   ],
   "source": [
    "ramen_df.head()"
   ]
  },
  {
   "cell_type": "code",
   "execution_count": 64,
   "metadata": {},
   "outputs": [
    {
     "data": {
      "text/plain": [
       "                 2920\n",
       "Spicy             562\n",
       "Chicken           412\n",
       "Seafood           112\n",
       "Spicy,Chicken      72\n",
       "Spicy,Seafood      39\n",
       "Name: Flavor, dtype: int64"
      ]
     },
     "execution_count": 64,
     "metadata": {},
     "output_type": "execute_result"
    }
   ],
   "source": [
    "ramen_df['Flavor'].value_counts()"
   ]
  },
  {
   "cell_type": "markdown",
   "metadata": {},
   "source": [
    "#### What is the average star ratings by ramen flavor?"
   ]
  },
  {
   "cell_type": "code",
   "execution_count": 65,
   "metadata": {},
   "outputs": [
    {
     "data": {
      "text/plain": [
       "Flavor\n",
       "                 3.752560\n",
       "Chicken          3.505583\n",
       "Seafood          3.776786\n",
       "Spicy            3.739324\n",
       "Spicy,Chicken    3.630208\n",
       "Spicy,Seafood    3.987179\n",
       "Name: Stars, dtype: float64"
      ]
     },
     "execution_count": 65,
     "metadata": {},
     "output_type": "execute_result"
    }
   ],
   "source": [
    "avg_stars_by_flavor = ramen_df.groupby('Flavor')['Stars'].mean()\n",
    "avg_stars_by_flavor"
   ]
  },
  {
   "cell_type": "code",
   "execution_count": 66,
   "metadata": {},
   "outputs": [
    {
     "data": {
      "image/png": "[encoded data removed]",
      "text/plain": [
       "<Figure size 432x288 with 1 Axes>"
      ]
     },
     "metadata": {
      "needs_background": "light"
     },
     "output_type": "display_data"
    }
   ],
   "source": [
    "avg_stars_by_flavor.plot(kind= 'barh')\n",
    "plt.xlabel('Average Star Rating')\n",
    "plt.title('Average Star Rating by Ramen Flavor');"
   ]
  },
  {
   "cell_type": "markdown",
   "metadata": {},
   "source": [
    "Ramen products with Spicy,Seafood flavor have the highest average star ratings of 3.987179 followed by those with Seafood flavor with average star rating of 3.776786. Ramen products with Chicken flavor have the least average star ratings of 3.505583. Those with Spicy,Chicken flavor have average star ratings of 3.630208. It can be seen that products containing chicken flavor generally have lower star ratings. "
   ]
  },
  {
   "cell_type": "markdown",
   "metadata": {},
   "source": [
    "### Multivariate Exploration\n",
    "\n",
    "#### Average Star ratings by Style and Flavor"
   ]
  },
  {
   "cell_type": "code",
   "execution_count": 67,
   "metadata": {},
   "outputs": [
    {
     "data": {
      "image/png": "[encoded data removed]",
      "text/plain": [
       "<Figure size 1440x720 with 1 Axes>"
      ]
     },
     "metadata": {
      "needs_background": "light"
     },
     "output_type": "display_data"
    }
   ],
   "source": [
    "plt.figure(figsize = [20, 10])\n",
    "\n",
    "sns.barplot(data = ramen_df, x = 'Style', y = 'Stars', \n",
    "              hue = 'Flavor');\n",
    "plt.legend(loc = 8, ncol = 3, title = 'Flavor');\n",
    "plt.ylabel('Average Star ratings')\n",
    "plt.xlabel('Style')\n",
    "plt.title('Average Star ratings by Style and Flavor');"
   ]
  },
  {
   "cell_type": "markdown",
   "metadata": {},
   "source": [
    "NB: The Blue colored bars represent the Ramen products without any of the feature engineered flavors. The above barplot shows how Ramen products with Spicy,Seafood flavor have better average star ratings across the Ramen styles (Pack, Bowl, Cup and Tray) followed by Seafood flavored Ramen products and then Spicy flavored Ramen products."
   ]
  },
  {
   "cell_type": "markdown",
   "metadata": {},
   "source": [
    "<a id='conclusions'></a>\n",
    "## Conclusions\n",
    "1. The distributon of the Star ratings is skewed to the left.\n",
    "2. The most common style used by ramen brands is Pack, followed by Bowl and then Cup. Bottle, Restaurant, Can and Bar are the least used styles by ramen brands.\n",
    "3. Japan has the highest total number of ramen_brands. \n",
    "4. The most common brand is Nissan.\n",
    "5. Ramen product with the style Bar has the highest star ratings on average but this is because only one ramen product record has the style Bar and it had a star rating of 5.0! Also Can and Bottle ramen styles both have a average star ratings of 3.5 and 4.0 respectively because there is only one ramen product record for each style. The ramen products with the style Box have the second highest star ratings on average of 4.262821. Ramen products with the Cup style have the lowest star ratings on average.\n",
    "6. France has the highest average rating for ramen products while Ireland has the lowest average rating. We must note that some countries have only one recored ramen product. These countries are Portugal, New Zealand and Ghana.\n",
    "7. 66 different Brands have average star ratings of 5.0. The next Brand with the closest average star rating to 5.0 is Prima Taste Brand with average star rating of 4.961538. The Brands US Canning, Yibin, Dr. McDougall's, Isoyama Shoji, Kim Ve Wong, Nanoblock, Simply Asia, Fairy Bridge, One Dish Asia, Tiger, Hikari Miso, Base Foods, Hsin Tung Yang, and Bowlfull all have the lowest average star ratings of 0.0. The next Brand with the closest average star rating to 0.0 is Roland Brand with average star rating of 0.125000.\n",
    "8. The Percentage of Ramen products with Spicy Flavor is 16.3%(673 spicy ramen products 0f 4117 total ramen products).\n",
    "9. The Percentage of Ramen products with Spicy Flavor is 11.8%(484 chicken ramen products 0f 4117 total ramen products).\n",
    "10. The Percentage of Ramen products with Spicy Flavor is 3.7%(151 seafood ramen products 0f 4117 total ramen products).\n",
    "11. Ramen products with spicy flavor have higher star ratings on average. The difference between the average star ratings of ramen products with spicy flavor and those without it is 0.018.\n",
    "12. Ramen products with chicken flavor have lower average star ratings than those without chicken flavor. The average star ratings of ramen products without chicken flavor is greater than those with chicken flavor by 0.23.\n",
    "13. Ramen products with seafood flavor have higher star ratings average. The difference between the average star ratings of ramen products with seafood flavor and those without it is 0.11.\n",
    "14. Ramen products with Spicy,Seafood flavor have the highest average star ratings of 3.987179 followed by those with Seafood flavor with average star rating of 3.776786. Ramen products with Chicken flavor have the least average star ratings of 3.505583. Those with Spicy,Chicken flavor have average star ratings of 3.630208. It can be seen that products containing chicken flavor generally have lower star ratings."
   ]
  },
  {
   "cell_type": "markdown",
   "metadata": {},
   "source": [
    "<a id='recommend'></a>\n",
    "## Limitations & Recommendation\n",
    "More feature engineering to get more flavors for the remaining ramen products will help to drive deeper analysis and get more insights."
   ]
  },
  {
   "cell_type": "code",
   "execution_count": null,
   "metadata": {},
   "outputs": [],
   "source": []
  }
 ],
 "metadata": {
  "kernelspec": {
   "display_name": "Python 3",
   "language": "python",
   "name": "python3"
  },
  "language_info": {
   "codemirror_mode": {
    "name": "ipython",
    "version": 3
   },
   "file_extension": ".py",
   "mimetype": "text/x-python",
   "name": "python",
   "nbconvert_exporter": "python",
   "pygments_lexer": "ipython3",
   "version": "3.7.6"
  }
 },
 "nbformat": 4,
 "nbformat_minor": 2
}
